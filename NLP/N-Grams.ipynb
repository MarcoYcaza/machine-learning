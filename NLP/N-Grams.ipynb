{
 "cells": [
  {
   "cell_type": "code",
   "execution_count": 2,
   "metadata": {},
   "outputs": [],
   "source": [
    "import string\n",
    "import collections\n",
    "import itertools as it"
   ]
  },
  {
   "cell_type": "code",
   "execution_count": 3,
   "metadata": {},
   "outputs": [],
   "source": [
    "from pysword.modules import SwordModules\n",
    "modules = SwordModules(u'KJVA.zip')\n",
    "modules.parse_modules()\n",
    "bible = modules.get_bible_from_module(u'KJVA')\n",
    "output = bible.get(books=[u'john',u'matthew'])\n",
    "corpus = [verse for verse in output.split('\\n')]"
   ]
  },
  {
   "cell_type": "markdown",
   "metadata": {},
   "source": [
    "ANALISIS DE SENTENCIAS"
   ]
  },
  {
   "cell_type": "markdown",
   "metadata": {},
   "source": [
    "Word Cleaning : Removemos los espacios al inicio y al final de cada versículo. Además pasamos toda palabra a minúsculas."
   ]
  },
  {
   "cell_type": "code",
   "execution_count": 4,
   "metadata": {},
   "outputs": [],
   "source": [
    "words_list=[]\n",
    "sentences = []\n",
    "\n",
    "for text in corpus:\n",
    "    for each_word in text.strip().split(\" \"): \n",
    "        words_list.append(each_word.lower())      #Coleccionando cada versículo en una variable temporal\n",
    "    sentences.append(words_list)\n",
    "    words_list = []                               #Limpiamos la variable temporal"
   ]
  },
  {
   "cell_type": "markdown",
   "metadata": {},
   "source": [
    "Ahora eliminamos los signos de puntiación, asignados a la variable \"exclude\""
   ]
  },
  {
   "cell_type": "code",
   "execution_count": 21,
   "metadata": {},
   "outputs": [],
   "source": [
    "## VAMOS A UTILIZAR UN METODO DE STRING LLAMADO JOIN\n",
    "\n",
    "words_complete_cleaned=[]\n",
    "temp = []\n",
    "sentences_cleaned = []\n",
    "\n",
    "for sentence in sentences:\n",
    "    for word in sentence:\n",
    "        cleaned_word =''.join(ch for ch in word if ch not in exclude)\n",
    "        temp.append(cleaned_word)\n",
    "    sentences_cleaned.append(temp)\n",
    "    temp = []"
   ]
  },
  {
   "cell_type": "code",
   "execution_count": 22,
   "metadata": {},
   "outputs": [],
   "source": [
    "CONTEO_TOTAL= collections.Counter(list(it.chain.from_iterable(sentences_cleaned)))"
   ]
  },
  {
   "cell_type": "markdown",
   "metadata": {},
   "source": [
    "Análisis de Bigramas"
   ]
  },
  {
   "cell_type": "code",
   "execution_count": 24,
   "metadata": {},
   "outputs": [],
   "source": [
    "def FindCurrentBigrams(sentence):\n",
    "    returned_list=[]\n",
    "    for i in range(len(sentence)-1):\n",
    "        returned_list.append(sentence[i]+sentence[i+1])\n",
    "    return returned_list"
   ]
  },
  {
   "cell_type": "code",
   "execution_count": 26,
   "metadata": {},
   "outputs": [],
   "source": [
    "temp = []\n",
    "sentences_cleaned_wrapped=[]\n",
    "\n",
    "for sentence_cleaned in sentences_cleaned:\n",
    "    temp.append('xx')     #contexto de inicio\n",
    "    for word in sentence_cleaned:\n",
    "        temp.append(word)\n",
    "    temp.append('xz')     #contexto de fin\n",
    "    sentences_cleaned_wrapped.append(temp)\n",
    "    temp=[]"
   ]
  },
  {
   "cell_type": "code",
   "execution_count": 27,
   "metadata": {},
   "outputs": [],
   "source": [
    "lista_bigramas_existentes=[]\n",
    "\n",
    "for sentence_cleaned in sentences_cleaned_wrapped:\n",
    "    lista_bigramas_existentes.append(FindCurrentBigrams(sentence_cleaned))"
   ]
  },
  {
   "cell_type": "code",
   "execution_count": 28,
   "metadata": {},
   "outputs": [],
   "source": [
    "CONTEO_DE_BIGRAMAS=collections.Counter(list(it.chain.from_iterable(lista_bigramas_existentes)))"
   ]
  },
  {
   "cell_type": "code",
   "execution_count": 29,
   "metadata": {},
   "outputs": [],
   "source": [
    "#Ejemplo\n",
    "sentence = sentences_cleaned_wrapped[23]\n",
    "TOTAL_SENTENCES_QTY = len(verses)\n",
    "probabilidades = []"
   ]
  },
  {
   "cell_type": "code",
   "execution_count": 30,
   "metadata": {},
   "outputs": [
    {
     "name": "stdout",
     "output_type": "stream",
     "text": [
      "0.005923600209314495\n"
     ]
    }
   ],
   "source": [
    "for i,bigram in enumerate(FindCurrentBigrams(sentence)):\n",
    "    if i==0:\n",
    "        prob1 = CONTEO_DE_BIGRAMAS[bigram]/TOTAL_SENTENCES_QTY\n",
    "    else:\n",
    "        prob2 = CONTEO_DE_BIGRAMAS[bigram]/(CONTEO_TOTAL[sentence[i]])\n",
    "        \n",
    "        probabilidades.append(prob2)\n",
    "        \n",
    "probabilidades.append(prob1)\n",
    "\n",
    "for i in range(len(probabilidades)-1):\n",
    "    s = probabilidades[i]*probabilidades[i+1]\n",
    "    \n",
    "print(s)"
   ]
  },
  {
   "cell_type": "code",
   "execution_count": 45,
   "metadata": {},
   "outputs": [],
   "source": [
    "lista_probabilidades=[]\n",
    "probabilidades = []\n",
    "for sentence in sentences_cleaned_wrapped:\n",
    "    for i,bigram in enumerate(FindCurrentBigrams(sentence)):\n",
    "        if i==0:\n",
    "            prob1 = CONTEO_DE_BIGRAMAS[bigram]/TOTAL_SENTENCES_QTY\n",
    "        else:\n",
    "            prob2 = CONTEO_DE_BIGRAMAS[bigram]/(CONTEO_TOTAL[sentence[i]])\n",
    "\n",
    "            probabilidades.append(prob2)\n",
    "\n",
    "    probabilidades.append(prob1)\n",
    "\n",
    "    for i in range(len(probabilidades)-1):\n",
    "        s = probabilidades[i]*probabilidades[i+1]\n",
    "    probabilidades = []\n",
    "        \n",
    "    lista_probabilidades.append(s)\n",
    "    "
   ]
  },
  {
   "cell_type": "markdown",
   "metadata": {},
   "source": [
    "Observaciones"
   ]
  },
  {
   "cell_type": "code",
   "execution_count": 42,
   "metadata": {},
   "outputs": [],
   "source": [
    "import matplotlib.pyplot as plt"
   ]
  },
  {
   "cell_type": "code",
   "execution_count": 43,
   "metadata": {},
   "outputs": [
    {
     "data": {
      "text/plain": [
       "<matplotlib.collections.PathCollection at 0x1ddf7fc46c8>"
      ]
     },
     "execution_count": 43,
     "metadata": {},
     "output_type": "execute_result"
    },
    {
     "data": {
      "image/png": "[encoded data removed]",
      "text/plain": [
       "<Figure size 432x288 with 1 Axes>"
      ]
     },
     "metadata": {
      "needs_background": "light"
     },
     "output_type": "display_data"
    }
   ],
   "source": [
    "plt.scatter(range(len(lista_probabilidades)),lista_probabilidades)"
   ]
  },
  {
   "cell_type": "code",
   "execution_count": 36,
   "metadata": {},
   "outputs": [
    {
     "data": {
      "text/plain": [
       "(0.29025641025641025, 1946)"
      ]
     },
     "execution_count": 36,
     "metadata": {},
     "output_type": "execute_result"
    }
   ],
   "source": [
    "max(list(zip(lista_probabilidades,temp)))"
   ]
  },
  {
   "cell_type": "code",
   "execution_count": 37,
   "metadata": {},
   "outputs": [
    {
     "data": {
      "text/plain": [
       "'And when they saw him, they worshipped him: but some doubted.'"
      ]
     },
     "execution_count": 37,
     "metadata": {},
     "output_type": "execute_result"
    }
   ],
   "source": [
    "verses[1946]"
   ]
  },
  {
   "cell_type": "code",
   "execution_count": 44,
   "metadata": {},
   "outputs": [
    {
     "data": {
      "text/plain": [
       "10"
      ]
     },
     "execution_count": 44,
     "metadata": {},
     "output_type": "execute_result"
    }
   ],
   "source": [
    "CONTEO_TOTAL['worshipped']"
   ]
  },
  {
   "cell_type": "code",
   "execution_count": null,
   "metadata": {},
   "outputs": [],
   "source": []
  },
  {
   "cell_type": "code",
   "execution_count": null,
   "metadata": {},
   "outputs": [],
   "source": []
  }
 ],
 "metadata": {
  "kernelspec": {
   "display_name": "Python 3",
   "language": "python",
   "name": "python3"
  },
  "language_info": {
   "codemirror_mode": {
    "name": "ipython",
    "version": 3
   },
   "file_extension": ".py",
   "mimetype": "text/x-python",
   "name": "python",
   "nbconvert_exporter": "python",
   "pygments_lexer": "ipython3",
   "version": "3.7.6"
  }
 },
 "nbformat": 4,
 "nbformat_minor": 4
}
