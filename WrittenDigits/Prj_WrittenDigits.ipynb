{
 "cells": [
  {
   "cell_type": "markdown",
   "metadata": {},
   "source": [
    "# Importamos librerias a utilizar"
   ]
  },
  {
   "cell_type": "code",
   "execution_count": 55,
   "metadata": {},
   "outputs": [],
   "source": [
    "import tensorflow as tf\n",
    "import numpy as np\n",
    "from PIL import Image\n",
    "import cv2 as cv\n",
    "import random\n",
    "import matplotlib.pyplot as plt\n",
    "import pandas as pd\n",
    "from sklearn.utils import shuffle"
   ]
  },
  {
   "cell_type": "markdown",
   "metadata": {},
   "source": [
    "# Importar Dataset"
   ]
  },
  {
   "cell_type": "markdown",
   "metadata": {},
   "source": [
    "NumPy :  Python programming language library that provides support for large arrays and matrices.\n",
    "    \n",
    "NPY file : is a NumPy array file created by the Python software package with the NumPy library installed. It contains an array saved in the NumPy (NPY) file format. NPY files store all the information required to reconstruct an array on any computer, which includes dtype and shape information.\n"
   ]
  },
  {
   "cell_type": "code",
   "execution_count": 56,
   "metadata": {},
   "outputs": [],
   "source": [
    "data = np.load('data_16_02.npy')"
   ]
  },
  {
   "cell_type": "code",
   "execution_count": 57,
   "metadata": {},
   "outputs": [
    {
     "data": {
      "image/png": "[encoded data removed]",
      "text/plain": [
       "<Figure size 432x288 with 2 Axes>"
      ]
     },
     "metadata": {
      "needs_background": "light"
     },
     "output_type": "display_data"
    }
   ],
   "source": [
    "#Veamos como luce la data dentro del dataset \n",
    "\n",
    "data_without_label_1=data[:,0:400][random.randrange(0,10000)]\n",
    "data_without_label_2=data[:,0:400][random.randrange(0,10000)]\n",
    "\n",
    "resized_image_1 =np.resize(data_without_label_1,(20,20))\n",
    "resized_image_2 =np.resize(data_without_label_2,(20,20))\n",
    "\n",
    "img = Image.fromarray(resized_image_1).convert('L')\n",
    "img.save('rand1.jpeg')\n",
    "img = Image.fromarray(resized_image_2).convert('L')\n",
    "img.save('rand2.jpeg')\n",
    "\n",
    "\n",
    "img_1 = cv.imread('rand1.jpeg')\n",
    "img_2 = cv.imread('rand2.jpeg')\n",
    "\n",
    "\n",
    "plt.subplot(141)\n",
    "plt.title(\"Sample 1\")\n",
    "plt.imshow(img_1)\n",
    "plt.subplot(142)\n",
    "plt.title(\"Sample 2\")\n",
    "plt.imshow(img_2)\n",
    "\n",
    "plt.show()"
   ]
  },
  {
   "cell_type": "markdown",
   "metadata": {},
   "source": [
    "Procesar Dataset \n"
   ]
  },
  {
   "cell_type": "code",
   "execution_count": 58,
   "metadata": {},
   "outputs": [],
   "source": [
    "dataframe=pd.DataFrame(data)\n",
    "df_shufled = shuffle(dataframe)"
   ]
  },
  {
   "cell_type": "code",
   "execution_count": 59,
   "metadata": {},
   "outputs": [],
   "source": [
    "df_training = df_shufled [0 : 11000]\n",
    "df_testing = df_shufled [11000 : 11600 ]"
   ]
  },
  {
   "cell_type": "code",
   "execution_count": 60,
   "metadata": {},
   "outputs": [],
   "source": [
    "df_training_features =  df_training.iloc[:,0:400].values \n",
    "df_training_labels   =  df_training.iloc[:,400:401].values \n",
    "\n",
    "df_testing_features  =  df_testing.iloc[:,0:400].values \n",
    "df_testing_labels   =  df_testing.iloc[:,400:401].values "
   ]
  },
  {
   "cell_type": "markdown",
   "metadata": {},
   "source": [
    "# Crear modelo neuronal"
   ]
  },
  {
   "cell_type": "code",
   "execution_count": 61,
   "metadata": {},
   "outputs": [],
   "source": [
    "x_train = tf.keras.utils.normalize(df_training_features, axis=1) # Normalize the training dataset\n",
    "x_test = tf.keras.utils.normalize(df_testing_features, axis=1) # Normalize the testing dataset"
   ]
  },
  {
   "cell_type": "code",
   "execution_count": 62,
   "metadata": {},
   "outputs": [
    {
     "data": {
      "text/plain": [
       "array([[0.        , 0.        , 0.        , ..., 0.        , 0.        ,\n",
       "        0.        ],\n",
       "       [0.        , 0.01154597, 0.        , ..., 0.        , 0.        ,\n",
       "        0.        ],\n",
       "       [0.        , 0.        , 0.        , ..., 0.        , 0.        ,\n",
       "        0.        ],\n",
       "       ...,\n",
       "       [0.        , 0.        , 0.        , ..., 0.        , 0.00162721,\n",
       "        0.        ],\n",
       "       [0.        , 0.        , 0.        , ..., 0.        , 0.        ,\n",
       "        0.        ],\n",
       "       [0.        , 0.        , 0.00363324, ..., 0.        , 0.        ,\n",
       "        0.        ]])"
      ]
     },
     "execution_count": 62,
     "metadata": {},
     "output_type": "execute_result"
    }
   ],
   "source": [
    "x_train"
   ]
  },
  {
   "cell_type": "code",
   "execution_count": 63,
   "metadata": {},
   "outputs": [],
   "source": [
    "#Build the model object\n",
    "model = tf.keras.models.Sequential()\n",
    "# Add the Flatten Layer\n",
    "model.add(tf.keras.layers.Flatten())\n",
    "# Build the input and the hidden layers\n",
    "model.add(tf.keras.layers.Dense(128, activation=tf.nn.relu,input_shape=(400,)))\n",
    "\n",
    "model.add(tf.keras.layers.Dense(10, activation=tf.nn.softmax,input_shape=(128,)))\n",
    "# Build the output layer\n",
    "#model.add(tf.keras.layers.Dense(10, activation=tf.nn.softmax))\n",
    "          \n",
    "          \n",
    "model.compile(loss='sparse_categorical_crossentropy', metrics=['accuracy'], optimizer='adam')\n",
    "          "
   ]
  },
  {
   "cell_type": "code",
   "execution_count": 64,
   "metadata": {
    "collapsed": true
   },
   "outputs": [
    {
     "name": "stdout",
     "output_type": "stream",
     "text": [
      "Train on 11000 samples\n",
      "Epoch 1/50\n",
      "11000/11000 [==============================] - 1s 85us/sample - loss: 2.0497 - accuracy: 0.3354\n",
      "Epoch 2/50\n",
      "11000/11000 [==============================] - 1s 65us/sample - loss: 1.6422 - accuracy: 0.5022\n",
      "Epoch 3/50\n",
      "11000/11000 [==============================] - 1s 73us/sample - loss: 1.3867 - accuracy: 0.5926\n",
      "Epoch 4/50\n",
      "11000/11000 [==============================] - 1s 76us/sample - loss: 1.1987 - accuracy: 0.6620\n",
      "Epoch 5/50\n",
      "11000/11000 [==============================] - 1s 79us/sample - loss: 1.0550 - accuracy: 0.7106\n",
      "Epoch 6/50\n",
      "11000/11000 [==============================] - 1s 74us/sample - loss: 0.9424 - accuracy: 0.7485\n",
      "Epoch 7/50\n",
      "11000/11000 [==============================] - 1s 79us/sample - loss: 0.8529 - accuracy: 0.7785\n",
      "Epoch 8/50\n",
      "11000/11000 [==============================] - 1s 78us/sample - loss: 0.7775 - accuracy: 0.7990\n",
      "Epoch 9/50\n",
      "11000/11000 [==============================] - 1s 71us/sample - loss: 0.7155 - accuracy: 0.8205\n",
      "Epoch 10/50\n",
      "11000/11000 [==============================] - 1s 71us/sample - loss: 0.6615 - accuracy: 0.8355\n",
      "Epoch 11/50\n",
      "11000/11000 [==============================] - 1s 74us/sample - loss: 0.6158 - accuracy: 0.8495\n",
      "Epoch 12/50\n",
      "11000/11000 [==============================] - 1s 69us/sample - loss: 0.5750 - accuracy: 0.8608\n",
      "Epoch 13/50\n",
      "11000/11000 [==============================] - 1s 77us/sample - loss: 0.5371 - accuracy: 0.8721\n",
      "Epoch 14/50\n",
      "11000/11000 [==============================] - 1s 69us/sample - loss: 0.5050 - accuracy: 0.8810\n",
      "Epoch 15/50\n",
      "11000/11000 [==============================] - 1s 72us/sample - loss: 0.4750 - accuracy: 0.8877\n",
      "Epoch 16/50\n",
      "11000/11000 [==============================] - 1s 73us/sample - loss: 0.4470 - accuracy: 0.8948\n",
      "Epoch 17/50\n",
      "11000/11000 [==============================] - 1s 76us/sample - loss: 0.4238 - accuracy: 0.9006\n",
      "Epoch 18/50\n",
      "11000/11000 [==============================] - 1s 71us/sample - loss: 0.4009 - accuracy: 0.9062\n",
      "Epoch 19/50\n",
      "11000/11000 [==============================] - 1s 73us/sample - loss: 0.3796 - accuracy: 0.9131\n",
      "Epoch 20/50\n",
      "11000/11000 [==============================] - 1s 68us/sample - loss: 0.3604 - accuracy: 0.9167\n",
      "Epoch 21/50\n",
      "11000/11000 [==============================] - 1s 71us/sample - loss: 0.3419 - accuracy: 0.9224\n",
      "Epoch 22/50\n",
      "11000/11000 [==============================] - 1s 68us/sample - loss: 0.3243 - accuracy: 0.9265\n",
      "Epoch 23/50\n",
      "11000/11000 [==============================] - 1s 69us/sample - loss: 0.3083 - accuracy: 0.9319\n",
      "Epoch 24/50\n",
      "11000/11000 [==============================] - 1s 70us/sample - loss: 0.2942 - accuracy: 0.9347\n",
      "Epoch 25/50\n",
      "11000/11000 [==============================] - 1s 69us/sample - loss: 0.2800 - accuracy: 0.9393\n",
      "Epoch 26/50\n",
      "11000/11000 [==============================] - 1s 69us/sample - loss: 0.2646 - accuracy: 0.9431\n",
      "Epoch 27/50\n",
      "11000/11000 [==============================] - 1s 71us/sample - loss: 0.2530 - accuracy: 0.9469\n",
      "Epoch 28/50\n",
      "11000/11000 [==============================] - 1s 68us/sample - loss: 0.2402 - accuracy: 0.9503\n",
      "Epoch 29/50\n",
      "11000/11000 [==============================] - 1s 69us/sample - loss: 0.2301 - accuracy: 0.9509\n",
      "Epoch 30/50\n",
      "11000/11000 [==============================] - 1s 69us/sample - loss: 0.2195 - accuracy: 0.9559\n",
      "Epoch 31/50\n",
      "11000/11000 [==============================] - 1s 67us/sample - loss: 0.2073 - accuracy: 0.9595\n",
      "Epoch 32/50\n",
      "11000/11000 [==============================] - 1s 67us/sample - loss: 0.1989 - accuracy: 0.9605\n",
      "Epoch 33/50\n",
      "11000/11000 [==============================] - 1s 64us/sample - loss: 0.1897 - accuracy: 0.9641\n",
      "Epoch 34/50\n",
      "11000/11000 [==============================] - 1s 65us/sample - loss: 0.1802 - accuracy: 0.9652\n",
      "Epoch 35/50\n",
      "11000/11000 [==============================] - 1s 63us/sample - loss: 0.1720 - accuracy: 0.9658\n",
      "Epoch 36/50\n",
      "11000/11000 [==============================] - 1s 66us/sample - loss: 0.1638 - accuracy: 0.9699\n",
      "Epoch 37/50\n",
      "11000/11000 [==============================] - 1s 64us/sample - loss: 0.1558 - accuracy: 0.9704\n",
      "Epoch 38/50\n",
      "11000/11000 [==============================] - 1s 77us/sample - loss: 0.1490 - accuracy: 0.9725\n",
      "Epoch 39/50\n",
      "11000/11000 [==============================] - 1s 72us/sample - loss: 0.1406 - accuracy: 0.9750\n",
      "Epoch 40/50\n",
      "11000/11000 [==============================] - 1s 68us/sample - loss: 0.1351 - accuracy: 0.9764\n",
      "Epoch 41/50\n",
      "11000/11000 [==============================] - 1s 67us/sample - loss: 0.1278 - accuracy: 0.9780\n",
      "Epoch 42/50\n",
      "11000/11000 [==============================] - 1s 64us/sample - loss: 0.1207 - accuracy: 0.9800\n",
      "Epoch 43/50\n",
      "11000/11000 [==============================] - 1s 64us/sample - loss: 0.1150 - accuracy: 0.9816\n",
      "Epoch 44/50\n",
      "11000/11000 [==============================] - 1s 66us/sample - loss: 0.1099 - accuracy: 0.9815\n",
      "Epoch 45/50\n",
      "11000/11000 [==============================] - 1s 70us/sample - loss: 0.1047 - accuracy: 0.9834\n",
      "Epoch 46/50\n",
      "11000/11000 [==============================] - 1s 68us/sample - loss: 0.0985 - accuracy: 0.9848\n",
      "Epoch 47/50\n",
      "11000/11000 [==============================] - 1s 67us/sample - loss: 0.0935 - accuracy: 0.9860\n",
      "Epoch 48/50\n",
      "11000/11000 [==============================] - 1s 67us/sample - loss: 0.0890 - accuracy: 0.9871\n",
      "Epoch 49/50\n",
      "11000/11000 [==============================] - 1s 68us/sample - loss: 0.0846 - accuracy: 0.9885\n",
      "Epoch 50/50\n",
      "11000/11000 [==============================] - 1s 64us/sample - loss: 0.0796 - accuracy: 0.9900\n",
      "600/600 [==============================] - 0s 138us/sample - loss: 0.6224 - accuracy: 0.8200\n",
      "\n",
      "Test accuracy: 0.82\n"
     ]
    }
   ],
   "source": [
    "\n",
    "model.fit(x=x_train, y=df_training_labels, epochs=50) # Start training process\n",
    "\n",
    "# Evaluate the model performance\n",
    "test_loss, test_acc = model.evaluate(x=x_test, y=df_testing_labels)\n",
    "# Print out the model accuracy \n",
    "print('\\nTest accuracy:', test_acc)"
   ]
  },
  {
   "cell_type": "code",
   "execution_count": 93,
   "metadata": {},
   "outputs": [],
   "source": [
    "predictions = model.predict([x_test]) # Make prediction"
   ]
  },
  {
   "cell_type": "markdown",
   "metadata": {},
   "source": [
    "# Analizamos casos de éxito"
   ]
  },
  {
   "cell_type": "code",
   "execution_count": 94,
   "metadata": {},
   "outputs": [
    {
     "name": "stdout",
     "output_type": "stream",
     "text": [
      "Valor a predecir:\n",
      "[2]\n",
      "Predicción:\n",
      "2\n"
     ]
    },
    {
     "data": {
      "image/png": "[encoded data removed]",
      "text/plain": [
       "<Figure size 432x288 with 1 Axes>"
      ]
     },
     "metadata": {
      "needs_background": "light"
     },
     "output_type": "display_data"
    }
   ],
   "source": [
    "list_goods = []\n",
    "for j in range(0,600):\n",
    "    if (df_testing_labels[j] == np.argmax(predictions[j])) :\n",
    "        list_goods.append(j)\n",
    "\n",
    "value = list_goods[random.randrange(0,len(list_goods))]\n",
    "\n",
    "print(\"Valor a predecir:\")\n",
    "print(df_testing_labels[value])\n",
    "print(\"Predicción:\")\n",
    "print(np.argmax(predictions[value])) # Print out the number\n",
    "\n",
    "resized_result =np.resize(df_testing_features[value],(20,20))  #229 \n",
    "\n",
    "img = Image.fromarray(resized_result).convert('L')\n",
    "\n",
    "plt.title(\"La predicción es \"+str(np.argmax(predictions[value])))\n",
    "plt.imshow(img)\n",
    "\n",
    "plt.show()"
   ]
  },
  {
   "cell_type": "markdown",
   "metadata": {},
   "source": [
    "# Analizamos casos de error"
   ]
  },
  {
   "cell_type": "code",
   "execution_count": 141,
   "metadata": {},
   "outputs": [
    {
     "name": "stdout",
     "output_type": "stream",
     "text": [
      "Valor a predecir:\n",
      "[9]\n",
      "Predicción:\n",
      "0\n"
     ]
    }
   ],
   "source": [
    "value = list_error[random.randrange(0,len(list_error))]\n",
    "\n",
    "print(\"Valor a predecir:\")\n",
    "print(df_testing_labels[value])\n",
    "print(\"Predicción:\")\n",
    "print(np.argmax(predictions[value])) # Print out the number"
   ]
  },
  {
   "cell_type": "code",
   "execution_count": 142,
   "metadata": {},
   "outputs": [
    {
     "data": {
      "image/png": "[encoded data removed]",
      "text/plain": [
       "<Figure size 432x288 with 1 Axes>"
      ]
     },
     "metadata": {
      "needs_background": "light"
     },
     "output_type": "display_data"
    }
   ],
   "source": [
    "resized_result =np.resize(df_testing_features[value],(20,20))  #229 \n",
    "\n",
    "img = Image.fromarray(resized_result).convert('L')\n",
    "\n",
    "plt.title(\"La predicción es \"+str(np.argmax(predictions[value])))\n",
    "plt.imshow(img)\n",
    "\n",
    "plt.show()"
   ]
  },
  {
   "cell_type": "code",
   "execution_count": null,
   "metadata": {},
   "outputs": [],
   "source": []
  }
 ],
 "metadata": {
  "kernelspec": {
   "display_name": "Python 3",
   "language": "python",
   "name": "python3"
  },
  "language_info": {
   "codemirror_mode": {
    "name": "ipython",
    "version": 3
   },
   "file_extension": ".py",
   "mimetype": "text/x-python",
   "name": "python",
   "nbconvert_exporter": "python",
   "pygments_lexer": "ipython3",
   "version": "3.7.4"
  }
 },
 "nbformat": 4,
 "nbformat_minor": 4
}
