{
 "cells": [
  {
   "cell_type": "markdown",
   "metadata": {},
   "source": [
    "# Importamos librerias a utilizar"
   ]
  },
  {
   "cell_type": "code",
   "execution_count": 71,
   "metadata": {},
   "outputs": [],
   "source": [
    "import tensorflow as tf\n",
    "import numpy as np\n",
    "from PIL import Image\n",
    "import cv2 as cv\n",
    "import random\n",
    "import matplotlib.pyplot as plt\n",
    "import pandas as pd\n",
    "from sklearn.utils import shuffle\n",
    "import matplotlib.pyplot as plt\n"
   ]
  },
  {
   "cell_type": "markdown",
   "metadata": {},
   "source": [
    "# Importar Dataset"
   ]
  },
  {
   "cell_type": "markdown",
   "metadata": {},
   "source": [
    "NumPy :  Python programming language library that provides support for large arrays and matrices.\n",
    "    \n",
    "NPY file : is a NumPy array file created by the Python software package with the NumPy library installed. It contains an array saved in the NumPy (NPY) file format. NPY files store all the information required to reconstruct an array on any computer, which includes dtype and shape information.\n"
   ]
  },
  {
   "cell_type": "code",
   "execution_count": 72,
   "metadata": {},
   "outputs": [],
   "source": [
    "data = np.load('data_16_02.npy')"
   ]
  },
  {
   "cell_type": "code",
   "execution_count": 73,
   "metadata": {},
   "outputs": [
    {
     "data": {
      "image/png": "[encoded data removed]",
      "text/plain": [
       "<Figure size 432x288 with 2 Axes>"
      ]
     },
     "metadata": {
      "needs_background": "light"
     },
     "output_type": "display_data"
    }
   ],
   "source": [
    "#Veamos como luce la data dentro del dataset \n",
    "\n",
    "data_without_label_1=data[:,0:400][random.randrange(0,10000)]\n",
    "data_without_label_2=data[:,0:400][random.randrange(0,10000)]\n",
    "\n",
    "resized_image_1 =np.resize(data_without_label_1,(20,20))\n",
    "resized_image_2 =np.resize(data_without_label_2,(20,20))\n",
    "\n",
    "img = Image.fromarray(resized_image_1).convert('L')\n",
    "img.save('rand1.jpeg')\n",
    "img = Image.fromarray(resized_image_2).convert('L')\n",
    "img.save('rand2.jpeg')\n",
    "\n",
    "\n",
    "img_1 = cv.imread('rand1.jpeg')\n",
    "img_2 = cv.imread('rand2.jpeg')\n",
    "\n",
    "\n",
    "plt.subplot(141)\n",
    "plt.title(\"Sample 1\")\n",
    "plt.imshow(img_1)\n",
    "plt.subplot(142)\n",
    "plt.title(\"Sample 2\")\n",
    "plt.imshow(img_2)\n",
    "\n",
    "plt.show()"
   ]
  },
  {
   "cell_type": "markdown",
   "metadata": {},
   "source": [
    "Procesar Dataset \n"
   ]
  },
  {
   "cell_type": "code",
   "execution_count": 74,
   "metadata": {},
   "outputs": [],
   "source": [
    "dataframe=pd.DataFrame(data)\n",
    "df_shufled = shuffle(dataframe)"
   ]
  },
  {
   "cell_type": "code",
   "execution_count": 75,
   "metadata": {},
   "outputs": [],
   "source": [
    "df_training = df_shufled [0 : 11000]\n",
    "df_testing = df_shufled [11000 : 11600 ]"
   ]
  },
  {
   "cell_type": "code",
   "execution_count": 76,
   "metadata": {},
   "outputs": [],
   "source": [
    "df_training_features =  df_training.iloc[:,0:400].values \n",
    "df_training_labels   =  df_training.iloc[:,400:401].values \n",
    "\n",
    "df_testing_features  =  df_testing.iloc[:,0:400].values \n",
    "df_testing_labels   =  df_testing.iloc[:,400:401].values "
   ]
  },
  {
   "cell_type": "markdown",
   "metadata": {},
   "source": [
    "# Crear modelo neuronal"
   ]
  },
  {
   "cell_type": "code",
   "execution_count": 77,
   "metadata": {},
   "outputs": [],
   "source": [
    "x_train = tf.keras.utils.normalize(df_training_features, axis=1) # Normalize the training dataset\n",
    "x_test = tf.keras.utils.normalize(df_testing_features, axis=1) # Normalize the testing dataset"
   ]
  },
  {
   "cell_type": "code",
   "execution_count": 78,
   "metadata": {},
   "outputs": [
    {
     "data": {
      "text/plain": [
       "array([[0.        , 0.00420825, 0.        , ..., 0.        , 0.        ,\n",
       "        0.        ],\n",
       "       [0.        , 0.        , 0.        , ..., 0.        , 0.        ,\n",
       "        0.        ],\n",
       "       [0.        , 0.        , 0.        , ..., 0.        , 0.        ,\n",
       "        0.        ],\n",
       "       ...,\n",
       "       [0.        , 0.        , 0.        , ..., 0.00095893, 0.        ,\n",
       "        0.        ],\n",
       "       [0.00746508, 0.        , 0.        , ..., 0.        , 0.        ,\n",
       "        0.        ],\n",
       "       [0.        , 0.        , 0.        , ..., 0.        , 0.        ,\n",
       "        0.        ]])"
      ]
     },
     "execution_count": 78,
     "metadata": {},
     "output_type": "execute_result"
    }
   ],
   "source": [
    "x_train"
   ]
  },
  {
   "cell_type": "code",
   "execution_count": 79,
   "metadata": {},
   "outputs": [],
   "source": [
    "#Build the model object\n",
    "model = tf.keras.models.Sequential()\n",
    "# Add the Flatten Layer\n",
    "#model.add(tf.keras.layers.Flatten())\n",
    "# Build the input and the hidden layers\n",
    "model.add(tf.keras.layers.Dense(128, activation=tf.nn.relu,input_shape=(400,)))\n",
    "\n",
    "model.add(tf.keras.layers.Dense(10, activation=tf.nn.softmax,input_shape=(128,)))\n",
    "# Build the output layer\n",
    "#model.add(tf.keras.layers.Dense(10, activation=tf.nn.softmax))\n",
    "          \n",
    "          \n",
    "model.compile(loss='sparse_categorical_crossentropy', metrics=['accuracy'], optimizer='adam')\n",
    "          "
   ]
  },
  {
   "cell_type": "code",
   "execution_count": 80,
   "metadata": {
    "scrolled": true
   },
   "outputs": [
    {
     "name": "stdout",
     "output_type": "stream",
     "text": [
      "Train on 11000 samples\n",
      "Epoch 1/50\n",
      "11000/11000 [==============================] - 1s 77us/sample - loss: 2.0561 - accuracy: 0.3431\n",
      "Epoch 2/50\n",
      "11000/11000 [==============================] - 1s 62us/sample - loss: 1.6402 - accuracy: 0.5098\n",
      "Epoch 3/50\n",
      "11000/11000 [==============================] - 1s 65us/sample - loss: 1.3831 - accuracy: 0.5997\n",
      "Epoch 4/50\n",
      "11000/11000 [==============================] - 1s 64us/sample - loss: 1.1979 - accuracy: 0.6578\n",
      "Epoch 5/50\n",
      "11000/11000 [==============================] - 1s 62us/sample - loss: 1.0563 - accuracy: 0.7075\n",
      "Epoch 6/50\n",
      "11000/11000 [==============================] - 1s 65us/sample - loss: 0.9412 - accuracy: 0.7466\n",
      "Epoch 7/50\n",
      "11000/11000 [==============================] - 1s 62us/sample - loss: 0.8486 - accuracy: 0.7742\n",
      "Epoch 8/50\n",
      "11000/11000 [==============================] - 1s 62us/sample - loss: 0.7708 - accuracy: 0.8025\n",
      "Epoch 9/50\n",
      "11000/11000 [==============================] - 1s 63us/sample - loss: 0.7064 - accuracy: 0.8228\n",
      "Epoch 10/50\n",
      "11000/11000 [==============================] - 1s 62us/sample - loss: 0.6517 - accuracy: 0.8407\n",
      "Epoch 11/50\n",
      "11000/11000 [==============================] - 1s 62us/sample - loss: 0.6035 - accuracy: 0.8526\n",
      "Epoch 12/50\n",
      "11000/11000 [==============================] - 1s 60us/sample - loss: 0.5617 - accuracy: 0.8625\n",
      "Epoch 13/50\n",
      "11000/11000 [==============================] - 1s 61us/sample - loss: 0.5249 - accuracy: 0.8748\n",
      "Epoch 14/50\n",
      "11000/11000 [==============================] - 1s 61us/sample - loss: 0.4932 - accuracy: 0.8856\n",
      "Epoch 15/50\n",
      "11000/11000 [==============================] - 1s 62us/sample - loss: 0.4636 - accuracy: 0.8933\n",
      "Epoch 16/50\n",
      "11000/11000 [==============================] - 1s 61us/sample - loss: 0.4375 - accuracy: 0.8976\n",
      "Epoch 17/50\n",
      "11000/11000 [==============================] - 1s 61us/sample - loss: 0.4136 - accuracy: 0.9058\n",
      "Epoch 18/50\n",
      "11000/11000 [==============================] - 1s 63us/sample - loss: 0.3907 - accuracy: 0.9087\n",
      "Epoch 19/50\n",
      "11000/11000 [==============================] - 1s 71us/sample - loss: 0.3707 - accuracy: 0.9150\n",
      "Epoch 20/50\n",
      "11000/11000 [==============================] - 1s 63us/sample - loss: 0.3512 - accuracy: 0.9203\n",
      "Epoch 21/50\n",
      "11000/11000 [==============================] - 1s 71us/sample - loss: 0.3333 - accuracy: 0.9255\n",
      "Epoch 22/50\n",
      "11000/11000 [==============================] - 1s 68us/sample - loss: 0.3154 - accuracy: 0.9292\n",
      "Epoch 23/50\n",
      "11000/11000 [==============================] - 1s 65us/sample - loss: 0.3010 - accuracy: 0.9343\n",
      "Epoch 24/50\n",
      "11000/11000 [==============================] - 1s 66us/sample - loss: 0.2852 - accuracy: 0.9398\n",
      "Epoch 25/50\n",
      "11000/11000 [==============================] - 1s 61us/sample - loss: 0.2705 - accuracy: 0.9425\n",
      "Epoch 26/50\n",
      "11000/11000 [==============================] - 1s 62us/sample - loss: 0.2581 - accuracy: 0.9453\n",
      "Epoch 27/50\n",
      "11000/11000 [==============================] - 1s 63us/sample - loss: 0.2447 - accuracy: 0.9499\n",
      "Epoch 28/50\n",
      "11000/11000 [==============================] - 1s 63us/sample - loss: 0.2323 - accuracy: 0.9546\n",
      "Epoch 29/50\n",
      "11000/11000 [==============================] - 1s 65us/sample - loss: 0.2214 - accuracy: 0.9538\n",
      "Epoch 30/50\n",
      "11000/11000 [==============================] - 1s 62us/sample - loss: 0.2105 - accuracy: 0.9575\n",
      "Epoch 31/50\n",
      "11000/11000 [==============================] - 1s 60us/sample - loss: 0.2002 - accuracy: 0.9613\n",
      "Epoch 32/50\n",
      "11000/11000 [==============================] - 1s 61us/sample - loss: 0.1905 - accuracy: 0.9621\n",
      "Epoch 33/50\n",
      "11000/11000 [==============================] - 1s 62us/sample - loss: 0.1807 - accuracy: 0.9640\n",
      "Epoch 34/50\n",
      "11000/11000 [==============================] - 1s 60us/sample - loss: 0.1725 - accuracy: 0.9667\n",
      "Epoch 35/50\n",
      "11000/11000 [==============================] - 1s 60us/sample - loss: 0.1641 - accuracy: 0.9688\n",
      "Epoch 36/50\n",
      "11000/11000 [==============================] - 1s 62us/sample - loss: 0.1551 - accuracy: 0.9709\n",
      "Epoch 37/50\n",
      "11000/11000 [==============================] - 1s 60us/sample - loss: 0.1479 - accuracy: 0.9726\n",
      "Epoch 38/50\n",
      "11000/11000 [==============================] - 1s 62us/sample - loss: 0.1401 - accuracy: 0.9737\n",
      "Epoch 39/50\n",
      "11000/11000 [==============================] - 1s 63us/sample - loss: 0.1338 - accuracy: 0.9758\n",
      "Epoch 40/50\n",
      "11000/11000 [==============================] - 1s 60us/sample - loss: 0.1269 - accuracy: 0.9771\n",
      "Epoch 41/50\n",
      "11000/11000 [==============================] - 1s 61us/sample - loss: 0.1212 - accuracy: 0.9789\n",
      "Epoch 42/50\n",
      "11000/11000 [==============================] - 1s 59us/sample - loss: 0.1143 - accuracy: 0.9815\n",
      "Epoch 43/50\n",
      "11000/11000 [==============================] - 1s 60us/sample - loss: 0.1093 - accuracy: 0.9822\n",
      "Epoch 44/50\n",
      "11000/11000 [==============================] - 1s 60us/sample - loss: 0.1029 - accuracy: 0.9843\n",
      "Epoch 45/50\n",
      "11000/11000 [==============================] - 1s 61us/sample - loss: 0.0978 - accuracy: 0.9856\n",
      "Epoch 46/50\n",
      "11000/11000 [==============================] - 1s 61us/sample - loss: 0.0934 - accuracy: 0.9867\n",
      "Epoch 47/50\n",
      "11000/11000 [==============================] - 1s 62us/sample - loss: 0.0872 - accuracy: 0.9885\n",
      "Epoch 48/50\n",
      "11000/11000 [==============================] - 1s 61us/sample - loss: 0.0833 - accuracy: 0.9890\n",
      "Epoch 49/50\n",
      "11000/11000 [==============================] - 1s 63us/sample - loss: 0.0785 - accuracy: 0.9910\n",
      "Epoch 50/50\n",
      "11000/11000 [==============================] - 1s 61us/sample - loss: 0.0748 - accuracy: 0.9906\n",
      "600/600 [==============================] - 0s 131us/sample - loss: 0.6272 - accuracy: 0.8417\n",
      "\n",
      "Test accuracy: 0.84166664\n"
     ]
    }
   ],
   "source": [
    "\n",
    "results =model.fit(x=x_train, y=df_training_labels, epochs=50) # Start training process\n",
    "\n",
    "# Evaluate the model performance\n",
    "test_loss, test_acc = model.evaluate(x=x_test, y=df_testing_labels)\n",
    "# Print out the model accuracy \n",
    "print('\\nTest accuracy:', test_acc)"
   ]
  },
  {
   "cell_type": "code",
   "execution_count": 81,
   "metadata": {},
   "outputs": [],
   "source": [
    "predictions = model.predict([x_test]) # Make prediction\n",
    "\n",
    "train_acc = results.history['accuracy']\n",
    "train_loss = results.history['loss']"
   ]
  },
  {
   "cell_type": "code",
   "execution_count": 101,
   "metadata": {},
   "outputs": [
    {
     "data": {
      "image/png": "[encoded data removed]",
      "text/plain": [
       "<Figure size 360x216 with 1 Axes>"
      ]
     },
     "metadata": {
      "needs_background": "light"
     },
     "output_type": "display_data"
    }
   ],
   "source": [
    "no_epochs = 50\n",
    "\n",
    "\n",
    "fig=plt.figure(figsize=(5,3))\n",
    "#plt.plot(np.arange(1, 1+no_epochs), train_loss, label=\"Train loss\")\n",
    "plt.plot(np.arange(1, 1+no_epochs), train_acc, label=\"Train Accuracy\")\n",
    "#plt.axhline(y=test_loss, color='g', linestyle='-', label=\"Test loss\")\n",
    "plt.axhline(y=test_acc, color='b', linestyle='-', label=\"Test acc\")\n",
    "plt.xlabel('Epochs')\n",
    "plt.ylabel('Train / Test')\n",
    "plt.title(\"Loss Plots\")\n",
    "plt.legend(loc='upper right')\n",
    "plt.show()"
   ]
  },
  {
   "cell_type": "markdown",
   "metadata": {},
   "source": [
    "# Analizamos casos de éxito"
   ]
  },
  {
   "cell_type": "code",
   "execution_count": 87,
   "metadata": {},
   "outputs": [
    {
     "name": "stdout",
     "output_type": "stream",
     "text": [
      "Valor a predecir:\n",
      "[0]\n",
      "Predicción:\n",
      "0\n"
     ]
    },
    {
     "data": {
      "image/png": "[encoded data removed]",
      "text/plain": [
       "<Figure size 432x288 with 1 Axes>"
      ]
     },
     "metadata": {
      "needs_background": "light"
     },
     "output_type": "display_data"
    }
   ],
   "source": [
    "list_goods = []\n",
    "for j in range(0,600):\n",
    "    if (df_testing_labels[j] == np.argmax(predictions[j])) :\n",
    "        list_goods.append(j)\n",
    "\n",
    "value = list_goods[random.randrange(0,len(list_goods))]\n",
    "\n",
    "print(\"Valor a predecir:\")\n",
    "print(df_testing_labels[value])\n",
    "print(\"Predicción:\")\n",
    "print(np.argmax(predictions[value])) # Print out the number\n",
    "\n",
    "resized_result =np.resize(df_testing_features[value],(20,20))  #229 \n",
    "\n",
    "img = Image.fromarray(resized_result).convert('L')\n",
    "\n",
    "plt.title(\"La predicción es \"+str(np.argmax(predictions[value])))\n",
    "plt.imshow(img)\n",
    "\n",
    "plt.show()"
   ]
  },
  {
   "cell_type": "markdown",
   "metadata": {},
   "source": [
    "# Analizamos casos de error"
   ]
  },
  {
   "cell_type": "code",
   "execution_count": 90,
   "metadata": {},
   "outputs": [
    {
     "name": "stdout",
     "output_type": "stream",
     "text": [
      "Valor a predecir:\n",
      "[2]\n",
      "Predicción:\n",
      "3\n"
     ]
    }
   ],
   "source": [
    "list_error = []\n",
    "for j in range(0,600):\n",
    "    if (df_testing_labels[j] != np.argmax(predictions[j])) :\n",
    "        list_error.append(j)\n",
    "\n",
    "\n",
    "value = list_error[random.randrange(0,len(list_error))]\n",
    "\n",
    "print(\"Valor a predecir:\")\n",
    "print(df_testing_labels[value])\n",
    "print(\"Predicción:\")\n",
    "print(np.argmax(predictions[value])) # Print out the number"
   ]
  },
  {
   "cell_type": "code",
   "execution_count": 91,
   "metadata": {},
   "outputs": [
    {
     "data": {
      "image/png": "[encoded data removed]",
      "text/plain": [
       "<Figure size 432x288 with 1 Axes>"
      ]
     },
     "metadata": {
      "needs_background": "light"
     },
     "output_type": "display_data"
    }
   ],
   "source": [
    "resized_result =np.resize(df_testing_features[value],(20,20))  #229 \n",
    "\n",
    "img = Image.fromarray(resized_result).convert('L')\n",
    "\n",
    "plt.title(\"La predicción es \"+str(np.argmax(predictions[value])))\n",
    "plt.imshow(img)\n",
    "\n",
    "plt.show()"
   ]
  },
  {
   "cell_type": "code",
   "execution_count": null,
   "metadata": {},
   "outputs": [],
   "source": []
  }
 ],
 "metadata": {
  "kernelspec": {
   "display_name": "Python 3",
   "language": "python",
   "name": "python3"
  },
  "language_info": {
   "codemirror_mode": {
    "name": "ipython",
    "version": 3
   },
   "file_extension": ".py",
   "mimetype": "text/x-python",
   "name": "python",
   "nbconvert_exporter": "python",
   "pygments_lexer": "ipython3",
   "version": "3.7.4"
  }
 },
 "nbformat": 4,
 "nbformat_minor": 4
}
