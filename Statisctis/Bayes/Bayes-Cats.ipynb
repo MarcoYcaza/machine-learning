{
 "cells": [
  {
   "cell_type": "raw",
   "metadata": {},
   "source": [
    "#(𝑷(𝐄|~𝑯)𝒙𝑷(~𝑯))/𝑷(𝑬) "
   ]
  },
  {
   "cell_type": "code",
   "execution_count": 115,
   "metadata": {},
   "outputs": [],
   "source": [
    "def prob_condicionada(prior,likelihood,stage, total):\n",
    "    \n",
    "    stage=stage-1\n",
    "    \n",
    "    prior_updated=prior*(((total-stage-1))/(total-stage))\n",
    "    \n",
    "    posterior = (likelihood*prior_updated)/(likelihood*prior_updated + (1-likelihood)*(prior-prior_updated))\n",
    "    \n",
    "    return posterior"
   ]
  },
  {
   "cell_type": "code",
   "execution_count": 140,
   "metadata": {},
   "outputs": [
    {
     "name": "stdout",
     "output_type": "stream",
     "text": [
      "En los 15 cuartos restantes, la probabilidad de hallarlo ahí 97.22\n",
      " \n",
      "En los 14 cuartos restantes, la probabilidad de hallarlo ahí 97.02\n",
      "\n",
      "En los 13 cuartos restantes, la probabilidad de hallarlo ahí 96.80\n",
      "\n",
      "En los 12 cuartos restantes, la probabilidad de hallarlo ahí 96.55\n",
      "\n",
      "En los 11 cuartos restantes, la probabilidad de hallarlo ahí 96.24\n",
      "\n",
      "En los 10 cuartos restantes, la probabilidad de hallarlo ahí 95.89\n",
      "\n",
      "En los 9 cuartos restantes, la probabilidad de hallarlo ahí 95.45\n",
      "\n",
      "En los 8 cuartos restantes, la probabilidad de hallarlo ahí 94.91\n",
      "\n",
      "En los 7 cuartos restantes, la probabilidad de hallarlo ahí 94.23\n",
      "\n",
      "En los 6 cuartos restantes, la probabilidad de hallarlo ahí 93.33\n",
      "\n",
      "En los 5 cuartos restantes, la probabilidad de hallarlo ahí 92.10\n",
      "\n",
      "En los 4 cuartos restantes, la probabilidad de hallarlo ahí 90.32\n",
      "\n",
      "En los 3 cuartos restantes, la probabilidad de hallarlo ahí 87.49\n",
      "\n",
      "En los 2 cuartos restantes, la probabilidad de hallarlo ahí 82.35\n",
      "\n",
      "En los 1 cuartos restantes, la probabilidad de hallarlo ahí 70.0\n",
      "\n"
     ]
    }
   ],
   "source": [
    "prob_list = []\n",
    "\n",
    "likelihood = 0.7\n",
    "total = 16\n",
    "\n",
    "first_prior = 1/total\n",
    "\n",
    "\n",
    "\n",
    "posterior = prob_condicionada(first_prior,likelihood,1,total)\n",
    "\n",
    "prob_list.append(posterior)\n",
    "\n",
    "print(\"En los \"+str(total-1)+\" cuartos restantes, la probabilidad de hallarlo ahí \" +str(posterior*100)[0:5])\n",
    "print(\" \")\n",
    "\n",
    "for stage in range(2,total):\n",
    "    \n",
    "    posterior = prob_condicionada(posterior,likelihood,stage,total)\n",
    "    \n",
    "    prob_list.append(posterior)\n",
    "    \n",
    "    print(\"En los \"+str(total-stage)+\" cuartos restantes, la probabilidad de hallarlo ahí \" +str(posterior*100)[0:5])\n",
    "    print(\"\")\n",
    "    \n",
    "    "
   ]
  },
  {
   "cell_type": "code",
   "execution_count": 141,
   "metadata": {},
   "outputs": [
    {
     "data": {
      "image/png": "[encoded data removed]",
      "text/plain": [
       "<Figure size 432x288 with 1 Axes>"
      ]
     },
     "metadata": {
      "needs_background": "light"
     },
     "output_type": "display_data"
    }
   ],
   "source": [
    "import numpy as np\n",
    "import matplotlib.pyplot as plt\n",
    "\n",
    "\n",
    "N = len(prob_list)\n",
    "\n",
    "x = range(1,len(prob_list)+1)\n",
    "y = prob_list\n",
    "\n",
    "colors = np.random.rand(N)\n",
    "\n",
    "plt.xlabel(\"Cuartos revisados\")\n",
    "plt.ylabel(\"Confianza de encontrarlo\")\n",
    "\n",
    "plt.scatter(x, y, s=5, c='k', alpha=1)\n",
    "plt.show()"
   ]
  },
  {
   "cell_type": "code",
   "execution_count": null,
   "metadata": {},
   "outputs": [],
   "source": []
  }
 ],
 "metadata": {
  "kernelspec": {
   "display_name": "Python 3",
   "language": "python",
   "name": "python3"
  },
  "language_info": {
   "codemirror_mode": {
    "name": "ipython",
    "version": 3
   },
   "file_extension": ".py",
   "mimetype": "text/x-python",
   "name": "python",
   "nbconvert_exporter": "python",
   "pygments_lexer": "ipython3",
   "version": "3.7.4"
  }
 },
 "nbformat": 4,
 "nbformat_minor": 2
}
